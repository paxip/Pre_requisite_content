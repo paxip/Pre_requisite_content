{
 "cells": [
  {
   "cell_type": "code",
   "execution_count": 5,
   "metadata": {},
   "outputs": [
    {
     "data": {
      "text/plain": [
       "{'a': 1, 'b': 2}"
      ]
     },
     "execution_count": 5,
     "metadata": {},
     "output_type": "execute_result"
    }
   ],
   "source": [
    "list1 = ['a', 'b', 'c', 'd']\n",
    "list2 = [1, 2, 3]\n",
    "\n",
    "list3 = zip(list1[0:2], list2[0:2])\n",
    "dict(list3)"
   ]
  },
  {
   "cell_type": "code",
   "execution_count": 7,
   "metadata": {},
   "outputs": [
    {
     "data": {
      "text/plain": [
       "{'Distributor': 'Walt Disney Studios Motion Pictures\\nSee full company information',\n",
       " 'Opening': '$220,009,584\\n4,232 theaters',\n",
       " 'Budget': '$317,000,000',\n",
       " 'Release Date': 'Dec 15, 2017 - Apr 19, 2018',\n",
       " 'MPAA': 'PG-13',\n",
       " 'Running Time': '2 hr 32 min',\n",
       " 'Genres': 'Action Adventure Fantasy Sci-Fi',\n",
       " 'In Release': '382 days/54 weeks',\n",
       " 'Widest Release': '4,232 theaters',\n",
       " 'IMDbPro': 'See more details at IMDbPro'}"
      ]
     },
     "execution_count": 7,
     "metadata": {},
     "output_type": "execute_result"
    }
   ],
   "source": [
    "key_list = ['Distributor', 'Opening', 'Budget', 'Release Date', 'MPAA', 'Running Time', 'Genres', 'In Release', 'Widest Release', 'IMDbPro']\n",
    "value_list = ['Walt Disney Studios Motion Pictures\\nSee full company information', '$220,009,584\\n4,232 theaters', '$317,000,000', 'Dec 15, 2017 - Apr 19, 2018', 'PG-13', '2 hr 32 min', 'Action Adventure Fantasy Sci-Fi', '382 days/54 weeks', '4,232 theaters', 'See more details at IMDbPro']\n",
    "\n",
    "key_value_list = zip(key_list, value_list)\n",
    "dict(key_value_list)"
   ]
  },
  {
   "cell_type": "code",
   "execution_count": 12,
   "metadata": {},
   "outputs": [
    {
     "name": "stdout",
     "output_type": "stream",
     "text": [
      "{'Distributor': 'Walt Disney Studios Motion Pictures\\nSee full company information', 'Opening': '$220,009,584\\n4,232 theaters', 'Budget': '$317,000,000', 'Release Date': 'Dec 15, 2017 - Apr 19, 2018', 'MPAA': 'PG-13', 'Running Time': '2 hr 32 min', 'Genres': 'Action Adventure Fantasy Sci-Fi', 'In Release': '382 days/54 weeks', 'Widest Release': '4,232 theaters', 'IMDbPro': 'See more details at IMDbPro'}\n"
     ]
    }
   ],
   "source": [
    "key_list = ['Distributor', 'Opening', 'Budget', 'Release Date', 'MPAA', 'Running Time', 'Genres', 'In Release', 'Widest Release', 'IMDbPro']\n",
    "value_list = ['Walt Disney Studios Motion Pictures\\nSee full company information', '$220,009,584\\n4,232 theaters', '$317,000,000', 'Dec 15, 2017 - Apr 19, 2018', 'PG-13', '2 hr 32 min', 'Action Adventure Fantasy Sci-Fi', '382 days/54 weeks', '4,232 theaters', 'See more details at IMDbPro']\n",
    "\n",
    "key_value_list = dict(zip(key_list, value_list))\n",
    "\n",
    "print(key_value_list)"
   ]
  },
  {
   "cell_type": "code",
   "execution_count": 11,
   "metadata": {},
   "outputs": [
    {
     "name": "stdout",
     "output_type": "stream",
     "text": [
      "{1: 'bobby', 2: 'hadz', 3: 'com'}\n"
     ]
    }
   ],
   "source": [
    "list_1 = [1, 2, 3]\n",
    "list_2 = ['bobby', 'hadz', 'com']\n",
    "\n",
    "my_list = dict(zip(list_1, list_2))\n",
    "\n",
    "# 👇️ [(1, 'bobby'), (2, 'hadz'), (3, 'com')]\n",
    "print(my_list)"
   ]
  },
  {
   "cell_type": "code",
   "execution_count": 15,
   "metadata": {},
   "outputs": [
    {
     "name": "stdout",
     "output_type": "stream",
     "text": [
      "Timestamp: 2022-10-20 17:11:28\n"
     ]
    }
   ],
   "source": [
    "import datetime\n",
    "\n",
    "Timestamp = 'Timestamp: {:%Y-%m-%d %H:%M:%S}'.format(datetime.datetime.now())\n",
    "\n",
    "print(Timestamp)"
   ]
  },
  {
   "cell_type": "code",
   "execution_count": 21,
   "metadata": {},
   "outputs": [
    {
     "name": "stdout",
     "output_type": "stream",
     "text": [
      "The directory is created.\n"
     ]
    }
   ],
   "source": [
    "import os\n",
    "\n",
    "os.mkdir('raw_data')\n",
    "print('The directory is created.')"
   ]
  },
  {
   "cell_type": "code",
   "execution_count": 20,
   "metadata": {},
   "outputs": [
    {
     "ename": "FileNotFoundError",
     "evalue": "[Errno 2] No such file or directory: 'DC_IMDB/GeeksforGeeks'",
     "output_type": "error",
     "traceback": [
      "\u001b[0;31m---------------------------------------------------------------------------\u001b[0m",
      "\u001b[0;31mFileNotFoundError\u001b[0m                         Traceback (most recent call last)",
      "Cell \u001b[0;32mIn [20], line 16\u001b[0m\n\u001b[1;32m     11\u001b[0m path \u001b[39m=\u001b[39m os\u001b[39m.\u001b[39mpath\u001b[39m.\u001b[39mjoin(parent_dir, directory)\n\u001b[1;32m     13\u001b[0m \u001b[39m# Create the directory\u001b[39;00m\n\u001b[1;32m     14\u001b[0m \u001b[39m# 'GeeksForGeeks' in\u001b[39;00m\n\u001b[1;32m     15\u001b[0m \u001b[39m# '/home / User / Documents'\u001b[39;00m\n\u001b[0;32m---> 16\u001b[0m os\u001b[39m.\u001b[39mmkdir(path)\n\u001b[1;32m     17\u001b[0m \u001b[39mprint\u001b[39m(\u001b[39m\"\u001b[39m\u001b[39mDirectory \u001b[39m\u001b[39m'\u001b[39m\u001b[39m% s\u001b[39;00m\u001b[39m'\u001b[39m\u001b[39m created\u001b[39m\u001b[39m\"\u001b[39m \u001b[39m%\u001b[39m directory)\n",
      "\u001b[0;31mFileNotFoundError\u001b[0m: [Errno 2] No such file or directory: 'DC_IMDB/GeeksforGeeks'"
     ]
    }
   ],
   "source": [
    "# importing os module\n",
    "import os\n",
    "  \n",
    "# Directory\n",
    "directory = \"GeeksforGeeks\"\n",
    "  \n",
    "# Parent Directory path\n",
    "parent_dir = \"DC_IMDB\"\n",
    "  \n",
    "# Path\n",
    "path = os.path.join(parent_dir, directory)\n",
    "  \n",
    "# Create the directory\n",
    "# 'GeeksForGeeks' in\n",
    "# '/home / User / Documents'\n",
    "os.mkdir(path)\n",
    "print(\"Directory '% s' created\" % directory)"
   ]
  },
  {
   "cell_type": "code",
   "execution_count": 22,
   "metadata": {},
   "outputs": [
    {
     "name": "stdout",
     "output_type": "stream",
     "text": [
      "Directory 'Nikhil' created\n"
     ]
    }
   ],
   "source": [
    "# Python program to explain os.makedirs() method  \n",
    "      \n",
    "# importing os module  \n",
    "import os \n",
    "    \n",
    "# Leaf directory \n",
    "directory = \"Nikhil\"\n",
    "    \n",
    "# Parent Directories \n",
    "parent_dir = \"raw_data/Singh\"\n",
    "    \n",
    "# Path \n",
    "path = os.path.join(parent_dir, directory) \n",
    "    \n",
    "# Create the directory \n",
    "# 'Nikhil' \n",
    "os.makedirs(path) \n",
    "print(\"Directory '% s' created\" % directory) \n",
    "    \n",
    "# Directory 'GeeksForGeeks' and 'Authors' will \n",
    "# be created too  \n",
    "# if it does not exists "
   ]
  },
  {
   "cell_type": "code",
   "execution_count": 24,
   "metadata": {},
   "outputs": [],
   "source": [
    "import os\n",
    "\n",
    "os.mkdir('raw_data')\n",
    "\n",
    "#directory = 'box_office_mojo'\n",
    "\n",
    "path = os.path.join('raw_data', 'box_office_mojo')\n",
    "\n",
    "os.mkdir(path)\n",
    "\n",
    "\n",
    "\n",
    "\n",
    "\n",
    "\n",
    "\n"
   ]
  },
  {
   "cell_type": "code",
   "execution_count": 28,
   "metadata": {},
   "outputs": [
    {
     "ename": "NotADirectoryError",
     "evalue": "[Errno 20] Not a directory: '/Users/apple/Documents/GitHub/DC_IMDB/data.json'",
     "output_type": "error",
     "traceback": [
      "\u001b[0;31m---------------------------------------------------------------------------\u001b[0m",
      "\u001b[0;31mNotADirectoryError\u001b[0m                        Traceback (most recent call last)",
      "Cell \u001b[0;32mIn [28], line 4\u001b[0m\n\u001b[1;32m      1\u001b[0m source \u001b[39m=\u001b[39m \u001b[39m'\u001b[39m\u001b[39m/Users/apple/Documents/GitHub/DC_IMDB/data.json\u001b[39m\u001b[39m'\u001b[39m\n\u001b[1;32m      2\u001b[0m destination \u001b[39m=\u001b[39m \u001b[39m'\u001b[39m\u001b[39m/Users/apple/Documents/GitHub/DC_IMDB/raw_data/box_office_mojo\u001b[39m\u001b[39m'\u001b[39m\n\u001b[0;32m----> 4\u001b[0m allfiles \u001b[39m=\u001b[39m os\u001b[39m.\u001b[39mlistdir(source)\n\u001b[1;32m      6\u001b[0m \u001b[39mfor\u001b[39;00m f \u001b[39min\u001b[39;00m allfiles:\n\u001b[1;32m      7\u001b[0m     src_path \u001b[39m=\u001b[39m os\u001b[39m.\u001b[39mpath\u001b[39m.\u001b[39mjoin(source, f)\n",
      "\u001b[0;31mNotADirectoryError\u001b[0m: [Errno 20] Not a directory: '/Users/apple/Documents/GitHub/DC_IMDB/data.json'"
     ]
    }
   ],
   "source": [
    "source = '/Users/apple/Documents/GitHub/DC_IMDB/data.json'\n",
    "destination = '/Users/apple/Documents/GitHub/DC_IMDB/raw_data/box_office_mojo'\n",
    "\n",
    "allfiles = os.listdir(source)\n",
    "\n",
    "for f in allfiles:\n",
    "    src_path = os.path.join(source, f)\n",
    "    dst_path = os.path.join(destination, f)\n",
    "    os.rename(src_path, dst_path)\n",
    "\n",
    "\n",
    "\n",
    "\n",
    "\n",
    "\n",
    "\n"
   ]
  },
  {
   "cell_type": "code",
   "execution_count": null,
   "metadata": {},
   "outputs": [],
   "source": [
    "import os\n",
    "\n",
    "os.mkdir('raw_data')\n",
    "\n",
    "#directory = 'box_office_mojo'\n",
    "\n",
    "path = os.path.join('raw_data', 'box_office_mojo')\n",
    "\n",
    "os.mkdir(path)\n",
    "\n",
    "with open(os.path.join(path, 'data.json'), 'w') as f:\n",
    "    json.dump(self.movie_dictionary, f)"
   ]
  },
  {
   "cell_type": "code",
   "execution_count": 31,
   "metadata": {},
   "outputs": [
    {
     "name": "stdout",
     "output_type": "stream",
     "text": [
      "('apple', 'banana', 'cherry')\n"
     ]
    }
   ],
   "source": [
    "x = ('apple', 'banana', 'cherry')\n",
    "y = enumerate(x)\n",
    "print(x)"
   ]
  },
  {
   "cell_type": "code",
   "execution_count": 32,
   "metadata": {},
   "outputs": [
    {
     "name": "stdout",
     "output_type": "stream",
     "text": [
      "1. banana2. apple3. pear4. peach"
     ]
    }
   ],
   "source": [
    "fruit = ['banana', 'apple', 'pear', 'peach']\n",
    "for i, item in enumerate(fruit,1):\n",
    "    print(i, '. ' + item, sep='',end='')\n"
   ]
  },
  {
   "cell_type": "code",
   "execution_count": 43,
   "metadata": {},
   "outputs": [
    {
     "name": "stdout",
     "output_type": "stream",
     "text": [
      "1\n",
      "2\n",
      "3\n",
      "4\n",
      "5\n",
      "6\n"
     ]
    }
   ],
   "source": [
    "blob = [\"a\", \"b\", \"c\", \"d\", \"e\", \"f\"]\n",
    "\n",
    "for n, i in enumerate(blob, 1):\n",
    "    print(n)\n"
   ]
  },
  {
   "cell_type": "code",
   "execution_count": 42,
   "metadata": {},
   "outputs": [
    {
     "name": "stdout",
     "output_type": "stream",
     "text": [
      "<built-in method index of list object at 0x10a4bf7c0>\n"
     ]
    }
   ],
   "source": [
    "list_1 = ['apple', 'pear', 'banana']\n",
    "\n",
    "print(list_1.)\n"
   ]
  },
  {
   "cell_type": "code",
   "execution_count": 45,
   "metadata": {},
   "outputs": [
    {
     "name": "stdout",
     "output_type": "stream",
     "text": [
      "<function caller.<locals>.first_child at 0x10a4e03a0>\n"
     ]
    }
   ],
   "source": [
    "def caller(num):\n",
    "    def first_child():\n",
    "        print('I am being called')\n",
    "        return \"I am the first child\"\n",
    "    \n",
    "    def second_child():\n",
    "        return \"I am the second child\"\n",
    "\n",
    "    if num == 1:\n",
    "        return first_child\n",
    "    else:\n",
    "        return second_child\n",
    "\n",
    "print(caller(1))\n"
   ]
  },
  {
   "cell_type": "code",
   "execution_count": 48,
   "metadata": {},
   "outputs": [
    {
     "name": "stdout",
     "output_type": "stream",
     "text": [
      "I come before the function!\n",
      "Epstein didn't kill himself\n",
      "I come after the function!\n"
     ]
    }
   ],
   "source": [
    "def my_decorator(func):\n",
    "    def wrapper():\n",
    "        print (\"I come before the function!\")\n",
    "        func(name)\n",
    "        print(\"I come after the function!\")\n",
    "    return wrapper\n",
    "\n",
    "def say_truth():\n",
    "    print(f'Epstein didn\\'t kill himself')\n",
    "\n",
    "my_func = my_decorator(say_truth)\n",
    "my_func()\n",
    "\n"
   ]
  },
  {
   "cell_type": "code",
   "execution_count": 50,
   "metadata": {},
   "outputs": [
    {
     "name": "stdout",
     "output_type": "stream",
     "text": [
      "I come before the function!\n",
      "Hello, world!\n",
      "I come after the function!\n"
     ]
    }
   ],
   "source": [
    "def wave():\n",
    "    print('Hello, world!')\n",
    "\n",
    "my_wave_func = my_decorator(wave)\n",
    "my_wave_func()\n"
   ]
  },
  {
   "cell_type": "code",
   "execution_count": 59,
   "metadata": {},
   "outputs": [
    {
     "name": "stdout",
     "output_type": "stream",
     "text": [
      "I come before the function!\n",
      "Hello, Ivan!\n",
      "I come after the function!\n"
     ]
    }
   ],
   "source": [
    "def my_decorator(func):\n",
    "    def wrapper(name):\n",
    "        print (\"I come before the function!\")\n",
    "        func(name)\n",
    "        print(\"I come after the function!\")\n",
    "    return wrapper\n",
    "\n",
    "def say_truth():\n",
    "    print(f'Epstein didn\\'t kill himself')\n",
    "\n",
    "\n",
    "def say_hello(name):\n",
    "    print(f'Hello, {name}!')\n",
    "\n",
    "my_hello_func = my_decorator(say_hello)\n",
    "my_hello_func('Ivan')"
   ]
  },
  {
   "cell_type": "code",
   "execution_count": 86,
   "metadata": {},
   "outputs": [
    {
     "name": "stdout",
     "output_type": "stream",
     "text": [
      "It took 1.9226000308990479 seconds to run\n"
     ]
    }
   ],
   "source": [
    "import time\n",
    "\n",
    "def my_timer(func):\n",
    "    def wrapper():\n",
    "        time_0 = time.time()\n",
    "        func()\n",
    "        time_1 = time.time()\n",
    "        print(f'It took {time_1 - time_0} seconds to run')\n",
    "    return wrapper\n",
    "\n",
    "@my_timer\n",
    "def dummy_fun():\n",
    "    for _ in range(50000000):\n",
    "        x = \"I am just losing your time\"\n",
    "\n",
    "dummy_fun()\n"
   ]
  },
  {
   "cell_type": "code",
   "execution_count": 64,
   "metadata": {},
   "outputs": [
    {
     "name": "stdout",
     "output_type": "stream",
     "text": [
      "Hello Ivan\n",
      "Hello Ivan\n"
     ]
    }
   ],
   "source": [
    "def repeat(func):\n",
    "    def wrapper(*args, **kwargs):\n",
    "        func(*args, **kwargs)\n",
    "        func(*args, **kwargs)\n",
    "    return wrapper\n",
    "\n",
    "def say_hi(name):\n",
    "    print(f'Hello {name}')\n",
    "    return 1\n",
    "\n",
    "repeat(say_hi)('Ivan')\n"
   ]
  },
  {
   "cell_type": "code",
   "execution_count": 97,
   "metadata": {},
   "outputs": [
    {
     "ename": "ValueError",
     "evalue": "Invalid date!",
     "output_type": "error",
     "traceback": [
      "\u001b[0;31m---------------------------------------------------------------------------\u001b[0m",
      "\u001b[0;31mValueError\u001b[0m                                Traceback (most recent call last)",
      "Cell \u001b[0;32mIn [97], line 26\u001b[0m\n\u001b[1;32m     22\u001b[0m     \u001b[39m@staticmethod\u001b[39m\n\u001b[1;32m     23\u001b[0m     \u001b[39mdef\u001b[39;00m \u001b[39mis_date_valid\u001b[39m(day, month, year):\n\u001b[1;32m     24\u001b[0m         \u001b[39mreturn\u001b[39;00m day \u001b[39m<\u001b[39m\u001b[39m=\u001b[39m \u001b[39m31\u001b[39m \u001b[39mand\u001b[39;00m month \u001b[39m<\u001b[39m\u001b[39m=\u001b[39m \u001b[39m12\u001b[39m \u001b[39mand\u001b[39;00m year \u001b[39m<\u001b[39m\u001b[39m=\u001b[39m \u001b[39m3999\u001b[39m\n\u001b[0;32m---> 26\u001b[0m bad_date \u001b[39m=\u001b[39m Date(\u001b[39m31\u001b[39m, \u001b[39m13\u001b[39m, \u001b[39m2021\u001b[39m)\n",
      "Cell \u001b[0;32mIn [97], line 9\u001b[0m, in \u001b[0;36mDate.__init__\u001b[0;34m(self, day, month, year)\u001b[0m\n\u001b[1;32m      7\u001b[0m     \u001b[39mself\u001b[39m\u001b[39m.\u001b[39myear \u001b[39m=\u001b[39m year\n\u001b[1;32m      8\u001b[0m \u001b[39melse\u001b[39;00m:\n\u001b[0;32m----> 9\u001b[0m     \u001b[39mraise\u001b[39;00m \u001b[39mValueError\u001b[39;00m(\u001b[39m'\u001b[39m\u001b[39mInvalid date!\u001b[39m\u001b[39m'\u001b[39m)\n",
      "\u001b[0;31mValueError\u001b[0m: Invalid date!"
     ]
    }
   ],
   "source": [
    "class Date:\n",
    "\n",
    "    def __init__(self, day=0, month=0, year=0):\n",
    "        if self.is_date_valid(day, month, year):\n",
    "            self.day = day\n",
    "            self.month = month\n",
    "            self.year = year\n",
    "        else:\n",
    "            raise ValueError('Invalid date!')\n",
    "        \n",
    "    def get_date(self):\n",
    "        print(self.day, self.month)\n",
    "\n",
    "    @classmethod\n",
    "    def today(cls):\n",
    "        today = datetime.date.today()\n",
    "        day = today.day\n",
    "        month = today.month\n",
    "        year = today.year\n",
    "        return cls(day, month, year)\n",
    "  \n",
    "    @staticmethod\n",
    "    def is_date_valid(day, month, year):\n",
    "        return day <= 31 and month <= 12 and year <= 3999\n",
    "\n",
    "bad_date = Date(31, 13, 2021)\n",
    "\n",
    "\n"
   ]
  },
  {
   "cell_type": "code",
   "execution_count": 98,
   "metadata": {},
   "outputs": [
    {
     "name": "stdout",
     "output_type": "stream",
     "text": [
      "     Name Last Name  Age\n",
      "0    Rick   Sanchez   70\n",
      "1   Morty     Smith   14\n",
      "2  Summer     Smith   17\n"
     ]
    }
   ],
   "source": [
    "# Tutorial: Class Methods\n",
    "\n",
    "import pandas as pd\n",
    "my_dict = {'Name': ['Rick', 'Morty', 'Summer'], 'Last Name': ['Sanchez', 'Smith', 'Smith'], 'Age': [70, 14, 17]}\n",
    "df = pd.DataFrame.from_dict(my_dict)\n",
    "print(df)\n"
   ]
  },
  {
   "cell_type": "code",
   "execution_count": 100,
   "metadata": {},
   "outputs": [
    {
     "data": {
      "text/plain": [
       "'17-08-2021/0/0'"
      ]
     },
     "execution_count": 100,
     "metadata": {},
     "output_type": "execute_result"
    }
   ],
   "source": [
    "from datetime import datetime\n",
    "\n",
    "\n",
    "class Date(object):\n",
    "    def __init__(self, day=0, month=0, year=0):\n",
    "        self.day = day\n",
    "        self.month = month\n",
    "        self.year = year\n",
    "\n",
    "    def display(self):\n",
    "        return \"{}/{}/{}\".format(self.day, self.month, self.year)\n",
    "\n",
    "    @classmethod\n",
    "    def now(cls):\n",
    "        t = datetime.now()\n",
    "        day = t.day\n",
    "        month = t.month\n",
    "        year = t.year\n",
    "        return cls(day, month, year)\n",
    "\n",
    "    @classmethod\n",
    "    def from_string(cls, date_as_string):\n",
    "        day, month, year = map(int, date_as_string.split('-'))\n",
    "        date1 = Date(day, month, year)\n",
    "        return date1\n",
    "        \n",
    "\n",
    "date = Date.now()\n",
    "# date.display()\n",
    "# print(date.day) \n",
    "\n",
    "date_2 = Date('17-08-2021')\n",
    "date_2.display()\n",
    "\n"
   ]
  },
  {
   "cell_type": "code",
   "execution_count": 103,
   "metadata": {},
   "outputs": [
    {
     "name": "stdout",
     "output_type": "stream",
     "text": [
      "I am running the class method\n"
     ]
    }
   ],
   "source": [
    "class Dummy:\n",
    "    def __init__(self):\n",
    "        print('I am running the constructor')\n",
    "    \n",
    "    @classmethod\n",
    "    def dummy_class_method(cls):\n",
    "        print('I am running the class method')\n",
    "\n",
    "Dummy.dummy_class_method()"
   ]
  },
  {
   "cell_type": "code",
   "execution_count": 104,
   "metadata": {},
   "outputs": [
    {
     "name": "stdout",
     "output_type": "stream",
     "text": [
      "True\n"
     ]
    }
   ],
   "source": [
    "from datetime import datetime\n",
    "\n",
    "\n",
    "class Date(object):\n",
    "\n",
    "    def __init__(self, day=0, month=0, year=0):\n",
    "        self.day = day\n",
    "        self.month = month\n",
    "        self.year = year\n",
    "        print('I am in the constructor')\n",
    "\n",
    "    def display(self):\n",
    "        return \"{}/{}/{}\".format(self.day, self.month, self.year)\n",
    "\n",
    "    @classmethod\n",
    "    def now(cls):\n",
    "        t = datetime.now()\n",
    "        day = t.day\n",
    "        month = t.month\n",
    "        year = t.year\n",
    "        return cls(day, month, year)\n",
    "    \n",
    "    @staticmethod\n",
    "    def is_date_valid(date_as_string):\n",
    "        day, month, year = map(int, date_as_string.split('-'))\n",
    "        return day <= 31 and month <= 12 and year <= 3999\n",
    "\n",
    "    @staticmethod\n",
    "    def is_date_future(date_as_string):\n",
    "        day, month, year = map(int, date_as_string.split('-'))\n",
    "        current_date = datetime.now()\n",
    "        current_year = current_date.year\n",
    "        current_day = current_date.day\n",
    "        current_month = current_date.month\n",
    "        if (current_year < year):\n",
    "            return False\n",
    "        elif (current_year == year):\n",
    "            if (current_day < day):\n",
    "                return False\n",
    "            elif (current_day == day):\n",
    "                if (current_month < month):\n",
    "                    return False\n",
    "    \n",
    "        return True\n",
    "    \n",
    "print(Date.is_date_future('29-08-2021'))\n",
    "    \n",
    "\n",
    "    \n",
    "\n"
   ]
  },
  {
   "cell_type": "code",
   "execution_count": 109,
   "metadata": {},
   "outputs": [
    {
     "name": "stdout",
     "output_type": "stream",
     "text": [
      "True\n"
     ]
    }
   ],
   "source": [
    "from datetime import datetime\n",
    "\n",
    "class Date(object):\n",
    "\n",
    "    def __init__(self, day=0, month=0, year=0):\n",
    "        self.day = day\n",
    "        self.month = month\n",
    "        self.year = year\n",
    "        print('I am in the constructor')\n",
    "    \n",
    "    def display(self):\n",
    "        return \"{}/{}/{}\".format(self.day, self.month, self.year)\n",
    "\n",
    "    @classmethod\n",
    "    def now(cls):\n",
    "        t = datetime.now()\n",
    "        day = t.day\n",
    "        month = t.month\n",
    "        year = t.year\n",
    "        return cls(day, month, year)\n",
    "        \n",
    "    @classmethod\n",
    "    def from_string(cls, date_as_string):\n",
    "        day, month, year = map(int, date_as_string.split('-'))\n",
    "        date1 = cls(day, month, year)\n",
    "        return date1\n",
    "\n",
    "    @staticmethod\n",
    "    def is_date_valid(date_as_string):\n",
    "        day, month, year = map(int, date_as_string.split('-'))\n",
    "        return day <= 31 and month <= 12 and year <= 3999\n",
    "    \n",
    "    @staticmethod\n",
    "    def is_date_future(date_as_string):\n",
    "        day, month, year = map(int, date_as_string.split('-'))\n",
    "        current_date = datetime.now()\n",
    "        current_year = current_date.year\n",
    "        current_day = current_date.day\n",
    "        current_month = current_date.month\n",
    "        if (current_year < year):\n",
    "            return False\n",
    "        elif (current_year == year):\n",
    "            if (current_day < day):\n",
    "                return False\n",
    "            elif (current_day == day):\n",
    "                if (current_month < month):\n",
    "                    return False\n",
    "        return True\n",
    "    \n",
    "print(Date.is_date_future('29-08-2021'))"
   ]
  },
  {
   "cell_type": "code",
   "execution_count": 123,
   "metadata": {},
   "outputs": [
    {
     "name": "stdout",
     "output_type": "stream",
     "text": [
      "Setting month value\n",
      "Setting year value\n"
     ]
    },
    {
     "ename": "AttributeError",
     "evalue": "'Date' object has no attribute '__day'",
     "output_type": "error",
     "traceback": [
      "\u001b[0;31m---------------------------------------------------------------------------\u001b[0m",
      "\u001b[0;31mAttributeError\u001b[0m                            Traceback (most recent call last)",
      "Cell \u001b[0;32mIn [123], line 56\u001b[0m\n\u001b[1;32m     52\u001b[0m         \u001b[39mreturn\u001b[39;00m \u001b[39m\"\u001b[39m\u001b[39m{}\u001b[39;00m\u001b[39m/\u001b[39m\u001b[39m{}\u001b[39;00m\u001b[39m/\u001b[39m\u001b[39m{}\u001b[39;00m\u001b[39m\"\u001b[39m\u001b[39m.\u001b[39mformat(\u001b[39mself\u001b[39m\u001b[39m.\u001b[39mday, \u001b[39mself\u001b[39m\u001b[39m.\u001b[39mmonth, \u001b[39mself\u001b[39m\u001b[39m.\u001b[39myear)\n\u001b[1;32m     55\u001b[0m my_date \u001b[39m=\u001b[39m Date(\u001b[39m19\u001b[39m, \u001b[39m5\u001b[39m, \u001b[39m1991\u001b[39m)\n\u001b[0;32m---> 56\u001b[0m \u001b[39mprint\u001b[39m(my_date\u001b[39m.\u001b[39m__day)\n",
      "\u001b[0;31mAttributeError\u001b[0m: 'Date' object has no attribute '__day'"
     ]
    }
   ],
   "source": [
    "from datetime import datetime\n",
    "\n",
    "class Date(object):\n",
    "\n",
    "    def __init__(self, day=0, month=0, year=0):\n",
    "        self.__day = day\n",
    "        self.month = month\n",
    "        self.year = year\n",
    "\n",
    "    @property\n",
    "    def day(self):\n",
    "        print('Getting day value')\n",
    "        return self.__day\n",
    "    \n",
    "    @day.setter\n",
    "    def day(self, day):\n",
    "        print('Setting day value')\n",
    "        if day < 0:\n",
    "            raise ValueError('Day cannot be negative')\n",
    "        self.__day = day\n",
    "    \n",
    "    @property\n",
    "    def month(self):\n",
    "        print('Getting month value')\n",
    "        return self.__month\n",
    "\n",
    "    @month.setter\n",
    "    def month(self, month):\n",
    "        print('Setting month value')\n",
    "        if month < 0:\n",
    "            raise ValueError('Month cannot be negative')\n",
    "        self.__month = month\n",
    "    \n",
    "    @month.deleter\n",
    "    def month(self):\n",
    "        print('Deleting month value')\n",
    "        del self.__month\n",
    "    \n",
    "    @property\n",
    "    def year(self):\n",
    "        print('Getting year value')\n",
    "        return self.__year\n",
    "    \n",
    "    @year.setter\n",
    "    def year(self, year):\n",
    "        print('Setting year value')\n",
    "        if year < 0:\n",
    "            raise ValueError('Year cannot be negative')\n",
    "        self.__year = year\n",
    "\n",
    "    def display(self):\n",
    "        return \"{}/{}/{}\".format(self.day, self.month, self.year)\n",
    "\n",
    "\n",
    "my_date = Date(19, 5, 1991)\n",
    "print(my_date.__day)\n"
   ]
  },
  {
   "cell_type": "code",
   "execution_count": 125,
   "metadata": {},
   "outputs": [
    {
     "name": "stdout",
     "output_type": "stream",
     "text": [
      "19\n"
     ]
    }
   ],
   "source": [
    "class Date(object):\n",
    "\n",
    "    def __init__(self, day=0, month=0, year=0):\n",
    "        self.__day = day\n",
    "        self.month = month\n",
    "        self.year = year\n",
    "    \n",
    "    def display_day(self):\n",
    "        print(self.__day)\n",
    "\n",
    "\n",
    "my_date = Date(19, 5, 1991)\n",
    "my_date.display_day()\n",
    "\n",
    "\n"
   ]
  },
  {
   "cell_type": "code",
   "execution_count": 127,
   "metadata": {},
   "outputs": [
    {
     "name": "stdout",
     "output_type": "stream",
     "text": [
      "<__main__.Date object at 0x116155670>\n"
     ]
    }
   ],
   "source": [
    "# Dataclass\n",
    "\n",
    "from dataclasses import dataclass\n",
    "\n",
    "@dataclass(order=True)\n",
    "class Date:\n",
    "    day: int # First positional argument\n",
    "    month: int\n",
    "    year: int\n",
    "\n",
    "class Date:\n",
    "    def __init__(self, day, month):\n",
    "        self.day = day\n",
    "        self.month = month\n",
    "    def __eq__(self, other):\n",
    "        return False\n",
    "    def __lt__(self, other):\n",
    "        return self.month < other.month\n",
    "\n",
    "date = Date(9, 4)\n",
    "date_2 = Date(2, 1)\n",
    "\n",
    "# date == date_2\n",
    "# date < date_2\n",
    "\n",
    "date = Date(1, 2)\n",
    "print(date)\n",
    "\n"
   ]
  },
  {
   "cell_type": "code",
   "execution_count": 128,
   "metadata": {},
   "outputs": [
    {
     "name": "stdout",
     "output_type": "stream",
     "text": [
      "Help on function say_hi in module __main__:\n",
      "\n",
      "say_hi(name)\n",
      "\n"
     ]
    }
   ],
   "source": [
    "# Docstrings\n",
    "\n",
    "\n",
    "def say_hi(name):\n",
    "    # This function says hi to the user\n",
    "    print(f\"Hello {name}\")\n",
    "\n",
    "help(say_hi)"
   ]
  },
  {
   "cell_type": "code",
   "execution_count": 129,
   "metadata": {},
   "outputs": [
    {
     "name": "stdout",
     "output_type": "stream",
     "text": [
      "Help on function say_hi in module __main__:\n",
      "\n",
      "say_hi(name)\n",
      "    This function says hi to the user\n",
      "\n"
     ]
    }
   ],
   "source": [
    "def say_hi(name):\n",
    "    \"\"\" This function says hi to the user \"\"\"\n",
    "    print(f\"Hello {name}\")\n",
    "\n",
    "help(say_hi)"
   ]
  },
  {
   "cell_type": "code",
   "execution_count": 82,
   "metadata": {},
   "outputs": [
    {
     "name": "stdout",
     "output_type": "stream",
     "text": [
      "120\n"
     ]
    }
   ],
   "source": [
    "def factorial(n):\n",
    "    previous = 1\n",
    "    for i in range(1, n + 1):\n",
    "        previous *= i\n",
    "    return previous\n",
    "\n",
    "print(factorial(5))\n"
   ]
  },
  {
   "cell_type": "code",
   "execution_count": 85,
   "metadata": {},
   "outputs": [
    {
     "name": "stdout",
     "output_type": "stream",
     "text": [
      "It took 4.0531158447265625e-06 seconds to run\n",
      "120\n"
     ]
    }
   ],
   "source": [
    "def my_timer(fun):\n",
    "    def wrapper(*args, **kwargs):\n",
    "        time_0 = time.time()\n",
    "        output = fun(*args, **kwargs)\n",
    "        time_1 = time.time()\n",
    "        print(f'It took {time_1 - time_0} seconds to run')\n",
    "        return output\n",
    "    return wrapper\n",
    "\n",
    "@my_timer\n",
    "def factorial(n):\n",
    "    previous = 1\n",
    "    for i in range(1, n + 1):\n",
    "        previous *= i\n",
    "    return previous\n",
    "\n",
    "print(factorial(5))\n",
    "         "
   ]
  },
  {
   "cell_type": "code",
   "execution_count": 65,
   "metadata": {},
   "outputs": [
    {
     "name": "stdout",
     "output_type": "stream",
     "text": [
      "Hello\n",
      "Welcome\n",
      "to\n",
      "GeeksforGeeks\n"
     ]
    }
   ],
   "source": [
    "def myFun(*argv):\n",
    "    for arg in argv:\n",
    "        print(arg)\n",
    "\n",
    "myFun('Hello', 'Welcome', 'to', 'GeeksforGeeks')"
   ]
  },
  {
   "cell_type": "code",
   "execution_count": 66,
   "metadata": {},
   "outputs": [
    {
     "name": "stdout",
     "output_type": "stream",
     "text": [
      "First arguement: Hello\n",
      "Next argument through *argv : Welcome\n",
      "Next argument through *argv : to\n",
      "Next argument through *argv : GeeksforGeeks\n"
     ]
    }
   ],
   "source": [
    "def myFun(arg1, *argv):\n",
    "    print(\"First arguement:\", arg1)\n",
    "    for arg in argv:\n",
    "        print(\"Next argument through *argv :\", arg)\n",
    "\n",
    "myFun('Hello', 'Welcome', 'to', 'GeeksforGeeks')\n"
   ]
  },
  {
   "cell_type": "code",
   "execution_count": 67,
   "metadata": {},
   "outputs": [
    {
     "name": "stdout",
     "output_type": "stream",
     "text": [
      "first == Geeks\n",
      "mid == for\n",
      "last == Geeks\n"
     ]
    }
   ],
   "source": [
    "def myFun(**kwargs):\n",
    "    for key, value in kwargs.items():\n",
    "        print(\"%s == %s\" % (key,value))\n",
    "\n",
    "myFun(first='Geeks', mid='for', last='Geeks')        "
   ]
  },
  {
   "cell_type": "code",
   "execution_count": 69,
   "metadata": {},
   "outputs": [
    {
     "name": "stdout",
     "output_type": "stream",
     "text": [
      "first == Geeks\n",
      "mid == for\n",
      "last == Geeks\n"
     ]
    }
   ],
   "source": [
    "def myFun(arg1, **kwargs):\n",
    "    for key, value in kwargs.items():\n",
    "        print(\"%s == %s\" % (key, value))\n",
    "\n",
    "myFun(\"Hi\", first='Geeks', mid='for', last='Geeks')\n"
   ]
  },
  {
   "cell_type": "code",
   "execution_count": 72,
   "metadata": {},
   "outputs": [
    {
     "name": "stdout",
     "output_type": "stream",
     "text": [
      "arg1: Geeks\n",
      "arg2 for\n",
      "arg3: Geeks\n"
     ]
    }
   ],
   "source": [
    "def myFun(arg1, arg2, arg3):\n",
    "    print(\"arg1:\", arg1)\n",
    "    print(\"arg2\", arg2)\n",
    "    print(\"arg3:\", arg3)\n",
    "\n",
    "# args = (\"Geeks\", \"for\", \"Geeks\")\n",
    "# myFun(*args)\n",
    "\n",
    "kwargs = {\"arg1\": \"Geeks\", \"arg2\": \"for\", \"arg3\": \"Geeks\"}\n",
    "myFun(**kwargs)\n",
    "    "
   ]
  },
  {
   "cell_type": "code",
   "execution_count": 74,
   "metadata": {},
   "outputs": [
    {
     "name": "stdout",
     "output_type": "stream",
     "text": [
      "args: ('geeks', 'for', 'geeks')\n",
      "kwargs: {'first': 'Geeks', 'mid': 'for', 'last': 'Geeks'}\n"
     ]
    }
   ],
   "source": [
    "def myFun(*args, **kwargs):\n",
    "    print(\"args:\", args)\n",
    "    print(\"kwargs:\", kwargs)\n",
    "\n",
    "myFun('geeks', 'for', 'geeks', first=\"Geeks\", mid=\"for\", last=\"Geeks\")"
   ]
  },
  {
   "cell_type": "code",
   "execution_count": 76,
   "metadata": {},
   "outputs": [
    {
     "name": "stdout",
     "output_type": "stream",
     "text": [
      "red\n",
      "250\n"
     ]
    }
   ],
   "source": [
    "class Car():\n",
    "    def __init__(self, *args):\n",
    "        self.speed = args[0]\n",
    "        self.colour=args[1]\n",
    "\n",
    "\n",
    "audi=Car(200,'red')\n",
    "bmw=Car(250,'black')\n",
    "mb=Car(190,'white')\n",
    "    \n",
    "print(audi.colour)\n",
    "print(bmw.speed)"
   ]
  },
  {
   "cell_type": "code",
   "execution_count": 77,
   "metadata": {},
   "outputs": [
    {
     "name": "stdout",
     "output_type": "stream",
     "text": [
      "red\n",
      "250\n"
     ]
    }
   ],
   "source": [
    "# *args receives arguements as an array/ **kwargs recieves arguements as a dictionary.\n",
    "\n",
    "\n",
    "class Car():\n",
    "    def __init__(self, **kwargs):\n",
    "        self.speed = kwargs['s']\n",
    "        self.color = kwargs['c']\n",
    "\n",
    "audi=Car(s=200,c='red')\n",
    "bmw=Car(s=250,c='black')\n",
    "mb=Car(s=190,c='white')\n",
    "    \n",
    "print(audi.color)\n",
    "print(bmw.speed)\n",
    "        \n"
   ]
  }
 ],
 "metadata": {
  "kernelspec": {
   "display_name": "Python 3.9.13 ('virtenv': venv)",
   "language": "python",
   "name": "python3"
  },
  "language_info": {
   "codemirror_mode": {
    "name": "ipython",
    "version": 3
   },
   "file_extension": ".py",
   "mimetype": "text/x-python",
   "name": "python",
   "nbconvert_exporter": "python",
   "pygments_lexer": "ipython3",
   "version": "3.9.13"
  },
  "orig_nbformat": 4,
  "vscode": {
   "interpreter": {
    "hash": "266c5601082e1a75e178fad676647bf06cf4df0a2432204052376ddceecb1fc4"
   }
  }
 },
 "nbformat": 4,
 "nbformat_minor": 2
}
