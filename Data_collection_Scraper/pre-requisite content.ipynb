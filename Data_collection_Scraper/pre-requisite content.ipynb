{
 "cells": [
  {
   "cell_type": "code",
   "execution_count": 1,
   "metadata": {},
   "outputs": [
    {
     "name": "stdout",
     "output_type": "stream",
     "text": [
      "Soap 64\n",
      "Artyom 55\n"
     ]
    }
   ],
   "source": [
    "class Player:\n",
    "    def __init__(self, name, level=1):\n",
    "        self.name = name\n",
    "        self.level = level\n",
    "\n",
    "    def play(self):\n",
    "        print(f'Ready up! My name is {self.name}. This is level {self.level}')\n",
    "\n",
    "soap = Player('Soap', 64)\n",
    "artyom = Player('Artyom', 55)\n",
    "\n",
    "print(soap.name, soap.level)\n",
    "print(artyom.name, artyom.level)\n"
   ]
  },
  {
   "cell_type": "code",
   "execution_count": 3,
   "metadata": {},
   "outputs": [],
   "source": [
    "class Computer:\n",
    "    def __init__(self, weight, ram, gpu):\n",
    "        self.weight = weight\n",
    "        self.ram = ram\n",
    "        self.gpu = gpu\n",
    "\n",
    "    def work(self):\n",
    "        print('I an working')\n",
    "\n",
    "    def code(self, language):\n",
    "        print(f'I am coding in {language}')\n",
    "\n",
    "    def browse(self):\n",
    "        print(f\"Let's browse LinkedIns\")\n",
    "\n",
    "    \n",
    "    \n",
    "\n",
    "    "
   ]
  },
  {
   "cell_type": "code",
   "execution_count": 8,
   "metadata": {},
   "outputs": [
    {
     "name": "stdout",
     "output_type": "stream",
     "text": [
      "True\n"
     ]
    }
   ],
   "source": [
    "class Computer:\n",
    "    def __init__(self, weight, ram, gpu):\n",
    "        self.weight = weight\n",
    "        self.ram = ram\n",
    "        self.gpu = gpu\n",
    "\n",
    "    def work(self):\n",
    "        print('I am working')\n",
    "\n",
    "    def code(self, language):\n",
    "        print(f'I am coding in {language}')\n",
    "\n",
    "    def browse(self):\n",
    "        print(f\"Let's browse LinkedIns\")\n",
    "\n",
    "class GamingComputer(Computer):\n",
    "    def __init__(self, weight, ram):\n",
    "        super().__init__(weight, ram, True)\n",
    "\n",
    "    def play_games(self, game):\n",
    "        print(f'I am using my GPU and my {self.ram}GB RAM to play {game}!')\n",
    "\n",
    "alienware = GamingComputer(12,16)\n",
    "print(alienware.gpu)\n"
   ]
  },
  {
   "cell_type": "code",
   "execution_count": 1,
   "metadata": {},
   "outputs": [],
   "source": [
    "# Testing\n",
    "\n",
    "def mean_list(my_list: list) -> float:\n",
    "    \"\"\"\n",
    "    Return the mean of the values in the list.\n",
    "    \"\"\"\n",
    "    running_sum = 0\n",
    "    for num in my_list:\n",
    "        running_sum += num\n",
    "    return running_sum / len(my_list)\n",
    "\n",
    "\n",
    "assert mean_list([1, 2, 3]) == 2\n",
    "assert mean_list([-1, -2, 1, 2]) == 0\n",
    "assert mean_list([]) == 0"
   ]
  },
  {
   "cell_type": "code",
   "execution_count": 3,
   "metadata": {},
   "outputs": [
    {
     "name": "stdout",
     "output_type": "stream",
     "text": [
      "HUGO BOSS-11-BLACK\n"
     ]
    }
   ],
   "source": [
    "\n",
    "\n",
    "class Product:\n",
    "    def __init__(self, name, size, color):  # <1>\n",
    "        self.name = name\n",
    "        self.size = size\n",
    "        self.color = color\n",
    "\n",
    "    def transform_name_for_sku(self):\n",
    "        return self.name.upper()\n",
    "\n",
    "    def transform_color_for_sku(self):\n",
    "        return self.color.upper()\n",
    "\n",
    "    def generate_sku(self):\n",
    "        \"\"\"\n",
    "        Generates a Stock Keeping Unit (SKU) for this product.\n",
    "        Example:\n",
    "            >>> small_black_shoes = Product('shoes', 'S', 'black')\n",
    "            >>> small_black_shoes.generate_sku()\n",
    "            'SHOES-S-BLACK'\n",
    "        \"\"\"\n",
    "        name = self.transform_name_for_sku()\n",
    "        color = self.transform_color_for_sku()\n",
    "        return f'{name}-{self.size}-{color}'\n",
    "\n",
    "if __name__ == \"__main__\":\n",
    "    shoes = Product('Hugo Boss', 11, 'Black')\n",
    "    print(shoes.generate_sku())\n",
    "\n",
    "\n"
   ]
  },
  {
   "cell_type": "code",
   "execution_count": 7,
   "metadata": {},
   "outputs": [],
   "source": [
    "# TESTING - Assertions\n",
    "\n",
    "ivan = 'dumb'\n",
    "assert ivan == 'dumb'"
   ]
  },
  {
   "cell_type": "code",
   "execution_count": null,
   "metadata": {},
   "outputs": [],
   "source": [
    "#TESTING - test for product.py\n",
    "\n",
    "from example.product import Product\n",
    "import unittest\n",
    "\n",
    "class ProductTestCase(unittest.TestCase):\n",
    "    def setUp(self):\n",
    "        self.product = Product('shoes', 'S', 'black')\n",
    "\n",
    "    def test_transform_name(self):\n",
    "        expected_value = 'SHOES'\n",
    "        actual_value = self.product.transform_name_for_sku()\n",
    "        self.assertEqual(expected_value, actual_value)\n",
    "    \n",
    "    def test_transform_colour_for_sku(self):\n",
    "        expected_value = 'BLACK'\n",
    "        actual_value = self.product.transform_color_for_sku()\n",
    "        self.assertEqual(expected_value, actual_value)\n",
    "    \n",
    "    def test_generate_sku(self):\n",
    "        expected_value = 'SHOES-S-BLACK'\n",
    "        actual_value = self.product.generate_sku()\n",
    "        self.assertEqual(expected_value, actual_value)\n",
    "    \n",
    "    def tearDown(self):\n",
    "        del self.product\n",
    "\n",
    "\n",
    "unittest.main(argv=[''], verbosity=2, exit=False)"
   ]
  },
  {
   "cell_type": "code",
   "execution_count": 8,
   "metadata": {},
   "outputs": [
    {
     "name": "stdout",
     "output_type": "stream",
     "text": [
      "1\n",
      "2\n",
      "Not Present\n"
     ]
    }
   ],
   "source": [
    "# Python program to demonstrate\n",
    "# defaultdict\n",
    "  \n",
    "  \n",
    "from collections import defaultdict\n",
    "  \n",
    "  \n",
    "# Function to return a default\n",
    "# values for keys that is not\n",
    "# present\n",
    "def def_value():\n",
    "    return \"Not Present\"\n",
    "      \n",
    "# Defining the dict\n",
    "d = defaultdict(def_value)\n",
    "d[\"a\"] = 1\n",
    "d[\"b\"] = 2\n",
    "  \n",
    "print(d[\"a\"])\n",
    "print(d[\"b\"])\n",
    "print(d[\"c\"])\n"
   ]
  },
  {
   "cell_type": "code",
   "execution_count": 10,
   "metadata": {},
   "outputs": [
    {
     "name": "stderr",
     "output_type": "stream",
     "text": [
      "test_maybe_skipped (__main__.MyTestCase) ... skipped 'Yes, 5 is equal to 5 so we skip'\n",
      "test_nothing (__main__.MyTestCase) ... skipped 'demonstrating skipping'\n",
      "test_py3_format (__main__.MyTestCase) ... ok\n",
      "test_windows_support (__main__.MyTestCase) ... skipped 'Windows required'\n",
      "\n",
      "----------------------------------------------------------------------\n",
      "Ran 4 tests in 0.022s\n",
      "\n",
      "OK (skipped=3)\n"
     ]
    },
    {
     "data": {
      "text/plain": [
       "<unittest.main.TestProgram at 0x108751d60>"
      ]
     },
     "execution_count": 10,
     "metadata": {},
     "output_type": "execute_result"
    }
   ],
   "source": [
    "import sys\n",
    "import unittest\n",
    "\n",
    "class MyTestCase(unittest.TestCase):\n",
    "    @unittest.skip(\"demonstrating skipping\")\n",
    "    def test_nothing(self):\n",
    "        # This line will not run at all\n",
    "        self.fail(\"shouldn't happen\")\n",
    "\n",
    "    @unittest.skipIf(sys.version_info.major < 3, \"Not supported for Python 2\")\n",
    "    def test_py3_format(self):\n",
    "        self.assertEqual(\"{}\".format(\"aaa\"), \"aaa\")\n",
    "        pass\n",
    "\n",
    "    @unittest.skipUnless(sys.platform.startswith(\"win\"), \"Windows required\")\n",
    "    def test_windows_support(self):\n",
    "        # windows specific testing code\n",
    "        pass\n",
    "\n",
    "    def test_maybe_skipped(self):\n",
    "        # Skip test from within the function body\n",
    "        if 5 == 5:\n",
    "            self.skipTest(\"Yes, 5 is equal to 5 so we skip\")\n",
    "        # test code which would run if 5 != 5 (essentially never, we know)\n",
    "        ...\n",
    "        \n",
    "unittest.main(argv=[''], verbosity=3, exit=False)"
   ]
  },
  {
   "cell_type": "code",
   "execution_count": 13,
   "metadata": {},
   "outputs": [],
   "source": [
    "def encode(input_string):\n",
    "    if input_string == \"\":\n",
    "        return []\n",
    "        \n",
    "    count = 1\n",
    "    prev = \"\"\n",
    "    lst = []\n",
    "    for character in input_string:\n",
    "        if character != prev:\n",
    "            if prev:\n",
    "                entry = (prev, count)\n",
    "                lst.append(entry)\n",
    "            count = 1\n",
    "            prev = character\n",
    "        else:\n",
    "            count += 1\n",
    "    entry = (character, count)\n",
    "    lst.append(entry)\n",
    "    return lst\n",
    "\n",
    "\n",
    "def decode(lst):\n",
    "    q = \"\"\n",
    "    for character, count in lst:\n",
    "        q += character * count\n",
    "    return q\n"
   ]
  },
  {
   "cell_type": "code",
   "execution_count": 14,
   "metadata": {},
   "outputs": [
    {
     "name": "stderr",
     "output_type": "stream",
     "text": [
      "test_maybe_skipped (__main__.MyTestCase) ... skipped 'Yes, 5 is equal to 5 so we skip'\n",
      "test_nothing (__main__.MyTestCase) ... skipped 'demonstrating skipping'\n",
      "test_py3_format (__main__.MyTestCase) ... ok\n",
      "test_windows_support (__main__.MyTestCase) ... skipped 'Windows required'\n",
      "test_decode_inverts_encode (__main__.TestEncoding) ... ok\n",
      "\n",
      "----------------------------------------------------------------------\n",
      "Ran 5 tests in 0.448s\n",
      "\n",
      "OK (skipped=3)\n"
     ]
    },
    {
     "data": {
      "text/plain": [
       "<unittest.main.TestProgram at 0x1095c5040>"
      ]
     },
     "execution_count": 14,
     "metadata": {},
     "output_type": "execute_result"
    }
   ],
   "source": [
    "from hypothesis import given\n",
    "import hypothesis.strategies as st\n",
    "\n",
    "\n",
    "class TestEncoding(unittest.TestCase):\n",
    "    @given(st.text())\n",
    "    def test_decode_inverts_encode(self, s):\n",
    "        self.assertEqual(decode(encode(s)), s)\n",
    "        \n",
    "unittest.main(argv=[''], verbosity=2, exit=False)"
   ]
  },
  {
   "cell_type": "code",
   "execution_count": 15,
   "metadata": {},
   "outputs": [],
   "source": [
    "@given(st.integers().filter(lambda x: x % 2 == 0))\n",
    "def test_even_integers(i):\n",
    "    pass"
   ]
  },
  {
   "cell_type": "code",
   "execution_count": 16,
   "metadata": {},
   "outputs": [],
   "source": [
    "from hypothesis import given\n",
    "import hypothesis.strategies as st\n",
    "from math import isnan\n",
    "import unittest\n",
    "\n",
    "@given(st.floats())\n",
    "def test_negation_is_self_inverse_for_non_nan(x):\n",
    "    assume(not isnan(x))\n",
    "    assert x == -(-x)"
   ]
  },
  {
   "cell_type": "code",
   "execution_count": 36,
   "metadata": {},
   "outputs": [
    {
     "name": "stdout",
     "output_type": "stream",
     "text": [
      "HUGOBOSS-11-BLACK\n"
     ]
    }
   ],
   "source": [
    "# Testing Challenges: Q1 - Completed\n",
    "\n",
    "from unittest.main import main\n",
    "\n",
    "\n",
    "class Product:\n",
    "    def __init__(self, name, size, color):  # <1>\n",
    "        self.name = name\n",
    "        self.size = size\n",
    "        self.color = color\n",
    "\n",
    "    def transform_name_for_sku(self):\n",
    "        return self.name.upper()\n",
    "\n",
    "    def transform_color_for_sku(self):\n",
    "        return self.color.upper()\n",
    "\n",
    "    def generate_sku(self):\n",
    "        \"\"\"\n",
    "        Generates a Stock Keeping Unit (SKU) for this product.\n",
    "        Example:\n",
    "            >>> small_black_shoes = Product('shoes', 'S', 'black')\n",
    "            >>> small_black_shoes.generate_sku()\n",
    "            'SHOES-S-BLACK'\n",
    "        \"\"\"\n",
    "        \n",
    "        name = self.transform_name_for_sku()\n",
    "        color = self.transform_color_for_sku()\n",
    "        return f'{name.replace(\" \", \"\")}-{self.size}-{color.replace(\" \", \"\")}'\n",
    "\n",
    "if __name__ == \"__main__\":\n",
    "    shoes = Product('Hugo Boss', 11, 'Black')\n",
    "    print(shoes.generate_sku())"
   ]
  },
  {
   "cell_type": "code",
   "execution_count": 54,
   "metadata": {},
   "outputs": [
    {
     "name": "stdout",
     "output_type": "stream",
     "text": [
      "TSHIRT-M-BLUE\n"
     ]
    }
   ],
   "source": [
    "# Testing Challenges: Q2 - Completed\n",
    "\n",
    "from unittest.main import main\n",
    "\n",
    "\n",
    "class Product:\n",
    "    def __init__(self, name, size, color):  # <1>\n",
    "        self.name = name.replace('-', '')\n",
    "        self.size = size\n",
    "        self.color = color\n",
    "\n",
    "    def transform_name_for_sku(self):\n",
    "        return self.name.upper()\n",
    "\n",
    "    def transform_color_for_sku(self):\n",
    "        return self.color.upper()\n",
    "\n",
    "    def generate_sku(self):\n",
    "        \"\"\"\n",
    "        Generates a Stock Keeping Unit (SKU) for this product.\n",
    "        Example:\n",
    "            >>> small_black_shoes = Product('shoes', 'S', 'black')\n",
    "            >>> small_black_shoes.generate_sku()\n",
    "            'SHOES-S-BLACK'\n",
    "        \"\"\"\n",
    "        \n",
    "        name = self.transform_name_for_sku()\n",
    "        color = self.transform_color_for_sku()\n",
    "        return f'{name.replace(\" \", \"\")}-{self.size.upper()}-{color.replace(\" \", \"\")}'\n",
    "\n",
    "if __name__ == \"__main__\":\n",
    "    shoes = Product('t-shirt', 'm', 'Blue')\n",
    "    print(shoes.generate_sku())"
   ]
  },
  {
   "cell_type": "code",
   "execution_count": 51,
   "metadata": {},
   "outputs": [
    {
     "name": "stdout",
     "output_type": "stream",
     "text": [
      "HUGO BOSS-11-BLACK\n"
     ]
    }
   ],
   "source": [
    "from unittest.main import main\n",
    "\n",
    "\n",
    "class Product:\n",
    "    def __init__(self, name, size, color):  # <1>\n",
    "        self.name = name\n",
    "        self.size = size\n",
    "        self.color = color\n",
    "\n",
    "    def transform_name_for_sku(self):\n",
    "        return self.name.upper()\n",
    "\n",
    "    def transform_color_for_sku(self):\n",
    "        return self.color.upper()\n",
    "\n",
    "    def generate_sku(self):\n",
    "        \"\"\"\n",
    "        Generates a Stock Keeping Unit (SKU) for this product.\n",
    "        Example:\n",
    "            >>> small_black_shoes = Product('shoes', 'S', 'black')\n",
    "            >>> small_black_shoes.generate_sku()\n",
    "            'SHOES-S-BLACK'\n",
    "        \"\"\"\n",
    "        \n",
    "        name = self.transform_name_for_sku()\n",
    "        color = self.transform_color_for_sku()\n",
    "        return f'{name}-{self.size}-{color}'\n",
    "\n",
    "if __name__ == \"__main__\":\n",
    "    shoes = Product('Hugo Boss', 11, 'Black')\n",
    "    print(shoes.generate_sku())"
   ]
  },
  {
   "cell_type": "code",
   "execution_count": null,
   "metadata": {},
   "outputs": [],
   "source": [
    "# Original product script\n",
    "\n",
    "from unittest.main import main\n",
    "\n",
    "\n",
    "class Product:\n",
    "    def __init__(self, name, size, color):  # <1>\n",
    "        self.name = name\n",
    "        self.size = size\n",
    "        self.color = color\n",
    "\n",
    "    def transform_name_for_sku(self):\n",
    "        return self.name.upper()\n",
    "\n",
    "    def transform_color_for_sku(self):\n",
    "        return self.color.upper()\n",
    "\n",
    "    def generate_sku(self):\n",
    "        \"\"\"\n",
    "        Generates a Stock Keeping Unit (SKU) for this product.\n",
    "        Example:\n",
    "            >>> small_black_shoes = Product('shoes', 'S', 'black')\n",
    "            >>> small_black_shoes.generate_sku()\n",
    "            'SHOES-S-BLACK'\n",
    "        \"\"\"\n",
    "        \n",
    "        name = self.transform_name_for_sku()\n",
    "        color = self.transform_color_for_sku()\n",
    "        return f'{name}-{self.size}-{color}'\n",
    "\n",
    "if __name__ == \"__main__\":\n",
    "    shoes = Product('Hugo Boss', 11, 'Black')\n",
    "    print(shoes.generate_sku())"
   ]
  },
  {
   "cell_type": "code",
   "execution_count": null,
   "metadata": {},
   "outputs": [],
   "source": [
    "# Original test script for product.py\n",
    "\n",
    "import unittest\n",
    "from example.cart import ShoppingCart\n",
    "from example.product import Product\n",
    "\n",
    "class ShoppingCartTestCase(unittest.TestCase):\n",
    "    def test_add_and_remove_product(self):\n",
    "        cart = ShoppingCart()\n",
    "        product = Product('Polo', 'S', 'Navy Blue')\n",
    "        \n",
    "        cart.add_product(product)\n",
    "        cart.remove_product(product)\n",
    "        # Check if the products attribute is empty\n",
    "        # The assertDictEqual check if two dicts are equal\n",
    "        self.assertDictEqual({}, cart.products) \n",
    "\n",
    "unittest.main(argv=[''], verbosity=3, exit=False)"
   ]
  },
  {
   "cell_type": "code",
   "execution_count": null,
   "metadata": {},
   "outputs": [],
   "source": [
    "# Hypothesis test \n",
    "\n",
    "from hypothesis import given\n",
    "from example.encode import Encoder\n",
    "import hypothesis.strategies as st\n",
    "import unittest\n",
    "\n",
    "class TestEncoding(unittest.TestCase):\n",
    "    @given(st.text())\n",
    "    def test_decode_inverts_encode(self, s):\n",
    "        self.assertEqual(decode(encode(s)), s)\n",
    "        \n",
    "unittest.main(argv=[''], verbosity=2, exit=False)"
   ]
  },
  {
   "cell_type": "code",
   "execution_count": 57,
   "metadata": {},
   "outputs": [
    {
     "name": "stderr",
     "output_type": "stream",
     "text": [
      "test_maybe_skipped (__main__.MyTestCase) ... skipped 'Yes, 5 is equal to 5 so we skip'\n",
      "test_nothing (__main__.MyTestCase) ... skipped 'demonstrating skipping'\n",
      "test_py3_format (__main__.MyTestCase) ... ok\n",
      "test_windows_support (__main__.MyTestCase) ... skipped 'Windows required'\n",
      "test_add_and_remove_product (__main__.ShoppingCartTestCase) ... ok\n",
      "test_add_product (__main__.ShoppingCartTestCase) ... ok\n",
      "test_cart_initially_empty (__main__.ShoppingCartTestCase) ... ok\n",
      "test_decode_inverts_encode (__main__.TestEncoding) ... "
     ]
    },
    {
     "name": "stdout",
     "output_type": "stream",
     "text": [
      "<example.product.Product object at 0x1098ccd00>\n"
     ]
    },
    {
     "name": "stderr",
     "output_type": "stream",
     "text": [
      "ok\n",
      "\n",
      "----------------------------------------------------------------------\n",
      "Ran 8 tests in 0.945s\n",
      "\n",
      "OK (skipped=3)\n"
     ]
    },
    {
     "data": {
      "text/plain": [
       "<unittest.main.TestProgram at 0x109748e20>"
      ]
     },
     "execution_count": 57,
     "metadata": {},
     "output_type": "execute_result"
    }
   ],
   "source": [
    "\n",
    "import unittest\n",
    "from example.cart import ShoppingCart\n",
    "from example.product import Product\n",
    "\n",
    "class ShoppingCartTestCase(unittest.TestCase):\n",
    "    def setUp(self):\n",
    "        self.cart = ShoppingCart()\n",
    "        self.product = Product('Polo', 'S', 'Navy Blue')\n",
    "    \n",
    "    def test_cart_initially_empty(self):\n",
    "        self.assertDictEqual({}, {}) \n",
    "\n",
    "    def test_add_and_remove_product(self):\n",
    "        self.cart.add_product(self.product)\n",
    "        self.cart.remove_product(self.product)\n",
    "        # Check if the products attribute is empty\n",
    "        # The assertDictEqual check if two dicts are equal\n",
    "        self.assertDictEqual({}, self.cart.products) \n",
    "    \n",
    "    def test_add_product(self):\n",
    "        product = Product('Shoes', 'S', 'Blue')\n",
    "        print(product)\n",
    "        #self.cart.add_product(self.product)\n",
    "        #self.assertDictEqual(self.cart.products,  ) \n",
    "\n",
    "        \n",
    "\n",
    "    \n",
    "\n",
    "    \n",
    "    \n",
    "\n",
    "unittest.main(argv=[''], verbosity=3, exit=False)"
   ]
  },
  {
   "cell_type": "code",
   "execution_count": 59,
   "metadata": {},
   "outputs": [
    {
     "name": "stdout",
     "output_type": "stream",
     "text": [
      "HUGO BOSS-11-BLACK\n"
     ]
    }
   ],
   "source": [
    "from collections import defaultdict\n",
    "from example.product import Product\n",
    "\n",
    "\n",
    "\n",
    "class ShoppingCart:\n",
    "    def __init__(self):\n",
    "        self.products = defaultdict(lambda: defaultdict(int))\n",
    "        ## You should know what defauldict does by now. \n",
    "\n",
    "    def add_product(self, product, quantity=1):\n",
    "        self.products[product.generate_sku()]['quantity'] += quantity\n",
    "\n",
    "    def remove_product(self, product, quantity=1):\n",
    "        sku = product.generate_sku()\n",
    "        self.products[sku]['quantity'] -= quantity\n",
    "        if self.products[sku]['quantity'] == 0:\n",
    "            del self.products[sku]\n",
    "\n",
    "if __name__ == \"__main__\":\n",
    "    shoes = Product('Hugo Boss', 11, 'Black') \n",
    "    print(shoes.generate_sku())\n",
    "    "
   ]
  }
 ],
 "metadata": {
  "kernelspec": {
   "display_name": "Python 3.9.13 ('DCvenv': venv)",
   "language": "python",
   "name": "python3"
  },
  "language_info": {
   "codemirror_mode": {
    "name": "ipython",
    "version": 3
   },
   "file_extension": ".py",
   "mimetype": "text/x-python",
   "name": "python",
   "nbconvert_exporter": "python",
   "pygments_lexer": "ipython3",
   "version": "3.9.13"
  },
  "orig_nbformat": 4,
  "vscode": {
   "interpreter": {
    "hash": "67c58ce05d457d0aa1f1cf24270b5dca87a6baa976fdc4442eb0ba04c28cf210"
   }
  }
 },
 "nbformat": 4,
 "nbformat_minor": 2
}
